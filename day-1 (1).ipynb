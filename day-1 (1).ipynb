{
 "cells": [
  {
   "cell_type": "markdown",
   "id": "cda72e5c-8468-410c-9ba9-b6bf04db4969",
   "metadata": {},
   "source": [
    "# Declare variables of different data types"
   ]
  },
  {
   "cell_type": "code",
   "execution_count": 2,
   "id": "09a65ec4-ea6f-4303-ac9d-80274eb5a387",
   "metadata": {},
   "outputs": [
    {
     "name": "stdout",
     "output_type": "stream",
     "text": [
      "Integer Variable:\n",
      "Value: 10\n",
      "Type: <class 'int'>\n",
      "\n",
      "Float Variable:\n",
      "Value: 3.14\n",
      "Type: <class 'float'>\n",
      "\n",
      "String Variable:\n",
      "Value: Hello, World!\n",
      "Type: <class 'str'>\n",
      "\n",
      "Boolean Variable:\n",
      "Value: True\n",
      "Type: <class 'bool'>\n"
     ]
    }
   ],
   "source": [
    "\n",
    "integer_var = 10  # Integer\n",
    "float_var = 3.14  # Float\n",
    "string_var = \"Hello, World!\"  # String\n",
    "boolean_var = True  # Boolean\n",
    "\n",
    "print(\"Integer Variable:\")\n",
    "print(\"Value:\", integer_var)\n",
    "print(\"Type:\", type(integer_var))\n",
    "print()\n",
    "\n",
    "print(\"Float Variable:\")\n",
    "print(\"Value:\", float_var)\n",
    "print(\"Type:\", type(float_var))\n",
    "print()\n",
    "\n",
    "print(\"String Variable:\")\n",
    "print(\"Value:\", string_var)\n",
    "print(\"Type:\", type(string_var))\n",
    "print()\n",
    "\n",
    "print(\"Boolean Variable:\")\n",
    "print(\"Value:\", boolean_var)\n",
    "print(\"Type:\", type(boolean_var))\n"
   ]
  },
  {
   "cell_type": "code",
   "execution_count": null,
   "id": "8351d4dc-d309-4442-8165-603c8b5f656b",
   "metadata": {},
   "outputs": [],
   "source": []
  }
 ],
 "metadata": {
  "kernelspec": {
   "display_name": "Python 3 (ipykernel)",
   "language": "python",
   "name": "python3"
  },
  "language_info": {
   "codemirror_mode": {
    "name": "ipython",
    "version": 3
   },
   "file_extension": ".py",
   "mimetype": "text/x-python",
   "name": "python",
   "nbconvert_exporter": "python",
   "pygments_lexer": "ipython3",
   "version": "3.12.4"
  }
 },
 "nbformat": 4,
 "nbformat_minor": 5
}
