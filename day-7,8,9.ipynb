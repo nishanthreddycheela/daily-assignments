{
 "cells": [
  {
   "cell_type": "markdown",
   "id": "d1c13577-2d6e-44fc-a00f-f714ee8bdaf5",
   "metadata": {},
   "source": [
    "# DAY-7"
   ]
  },
  {
   "cell_type": "code",
   "execution_count": 37,
   "id": "ed1cd7f9-5269-4eee-8f4e-d8751337a440",
   "metadata": {},
   "outputs": [],
   "source": [
    "import pandas as pd"
   ]
  },
  {
   "cell_type": "code",
   "execution_count": 39,
   "id": "531c7da6-8999-4a21-8a89-0b7f1978f1c7",
   "metadata": {},
   "outputs": [],
   "source": [
    "import numpy as np"
   ]
  },
  {
   "cell_type": "code",
   "execution_count": 41,
   "id": "4a06cd4d-b22a-4e52-a04a-3a0b294e364c",
   "metadata": {},
   "outputs": [
    {
     "name": "stdout",
     "output_type": "stream",
     "text": [
      "First 5 rows of the dataset:\n",
      "         Date Product Region    Sales  Profit  Quantity\n",
      "0  2023-01-02  Tablet   East  1061.81  236.12         7\n",
      "1  2023-01-06  Laptop  North  1926.07  246.34         8\n",
      "2  2023-01-03  Tablet   East  1597.99  253.17         3\n",
      "3  2023-01-20  Tablet  North  1397.99  242.23         1\n",
      "4  2023-01-04  Laptop   West   734.03  140.36         4\n",
      "\n",
      "Basic statistics of numerical columns:\n",
      "             Sales      Profit   Quantity\n",
      "count    20.000000   20.000000  20.000000\n",
      "mean   1186.553000  211.533000   5.050000\n",
      "std     461.528444   66.916251   2.543826\n",
      "min     530.880000   82.160000   1.000000\n",
      "25%     774.517500  166.515000   2.750000\n",
      "50%    1104.865000  214.670000   5.000000\n",
      "75%    1571.080000  248.047500   7.250000\n",
      "max    1954.860000  364.970000   9.000000\n",
      "\n",
      "Total sales for each region:\n",
      "Region\n",
      "East      5818.93\n",
      "North    10449.68\n",
      "South      936.84\n",
      "West      6525.61\n",
      "Name: Sales, dtype: float64\n",
      "\n",
      "Most sold product (based on quantity): Tablet\n",
      "\n",
      "Average profit margin for each product:\n",
      "Product\n",
      "Keyboard      20.080696\n",
      "Laptop        17.112734\n",
      "Monitor       15.134989\n",
      "Smartphone    23.703647\n",
      "Tablet        19.955758\n",
      "Name: Profit Margin (%), dtype: float64\n"
     ]
    }
   ],
   "source": [
    "import pandas as pd\n",
    "\n",
    "# Load the dataset\n",
    "file_path = \"Day_7_sales_data (1).csv\"  # Replace with the correct path to your CSV file\n",
    "sales_data = pd.read_csv(file_path)\n",
    "\n",
    "# Display the first 5 rows of the dataset\n",
    "print(\"First 5 rows of the dataset:\")\n",
    "print(sales_data.head())\n",
    "\n",
    "# Print basic statistics of numerical columns\n",
    "print(\"\\nBasic statistics of numerical columns:\")\n",
    "print(sales_data.describe())\n",
    "\n",
    "# Calculate the total sales for each region\n",
    "total_sales_by_region = sales_data.groupby(\"Region\")[\"Sales\"].sum()\n",
    "print(\"\\nTotal sales for each region:\")\n",
    "print(total_sales_by_region)\n",
    "\n",
    "# Find the most sold product (based on quantity)\n",
    "most_sold_product = sales_data.groupby(\"Product\")[\"Quantity\"].sum().idxmax()\n",
    "print(\"\\nMost sold product (based on quantity):\", most_sold_product)\n",
    "\n",
    "# Compute the average profit margin for each product\n",
    "sales_data[\"Profit Margin (%)\"] = (sales_data[\"Profit\"] / sales_data[\"Sales\"]) * 100\n",
    "average_profit_margin = sales_data.groupby(\"Product\")[\"Profit Margin (%)\"].mean()\n",
    "print(\"\\nAverage profit margin for each product:\")\n",
    "print(average_profit_margin)\n"
   ]
  },
  {
   "cell_type": "markdown",
   "id": "5399ddfa-b085-4ecd-bda3-7631163de342",
   "metadata": {},
   "source": [
    "# DAY-8"
   ]
  },
  {
   "cell_type": "code",
   "execution_count": 45,
   "id": "c9085850-44a1-4aa7-ac73-26bdb8cc5887",
   "metadata": {},
   "outputs": [
    {
     "name": "stdout",
     "output_type": "stream",
     "text": [
      "Rows where sales are greater than 1000:\n",
      "          Date     Product Region    Sales  Profit  Quantity\n",
      "0   2023-01-02      Tablet   East  1061.81  236.12         7\n",
      "1   2023-01-06      Laptop  North  1926.07  246.34         8\n",
      "2   2023-01-03      Tablet   East  1597.99  253.17         3\n",
      "3   2023-01-20      Tablet  North  1397.99  242.23         1\n",
      "7   2023-01-07  Smartphone   East  1799.26  364.97         4\n",
      "8   2023-01-11  Smartphone   West  1401.67  306.24         2\n",
      "9   2023-01-01      Laptop  North  1562.11  170.72         6\n",
      "11  2023-01-12      Laptop   West  1954.86  262.16         4\n",
      "12  2023-01-09     Monitor  North  1748.66  197.62         6\n",
      "17  2023-01-18     Monitor   West  1287.13  153.86         7\n",
      "18  2023-01-13      Tablet   West  1147.92  271.88         9\n",
      "\n",
      "Sales records for 'East' region:\n",
      "          Date     Product Region    Sales  Profit  Quantity\n",
      "0   2023-01-02      Tablet   East  1061.81  236.12         7\n",
      "2   2023-01-03      Tablet   East  1597.99  253.17         3\n",
      "6   2023-01-14    Keyboard   East   587.13   82.16         8\n",
      "7   2023-01-07  Smartphone   East  1799.26  364.97         4\n",
      "14  2023-01-08      Laptop   East   772.74  226.51         2\n",
      "\n",
      "Updated DataFrame with new columns:\n",
      "         Date Product Region    Sales  Profit  Quantity  Profit_Per_Unit  \\\n",
      "0  2023-01-02  Tablet   East  1061.81  236.12         7        33.731429   \n",
      "1  2023-01-06  Laptop  North  1926.07  246.34         8        30.792500   \n",
      "2  2023-01-03  Tablet   East  1597.99  253.17         3        84.390000   \n",
      "3  2023-01-20  Tablet  North  1397.99  242.23         1       242.230000   \n",
      "4  2023-01-04  Laptop   West   734.03  140.36         4        35.090000   \n",
      "\n",
      "  High_Sales  \n",
      "0        Yes  \n",
      "1        Yes  \n",
      "2        Yes  \n",
      "3        Yes  \n",
      "4         No  \n"
     ]
    }
   ],
   "source": [
    "import pandas as pd\n",
    "\n",
    "# Load the CSV file (use your file path here)\n",
    "df = pd.read_csv('Day_8_sales_data.csv')\n",
    "\n",
    "# Data Filtering\n",
    "# Extract rows where sales are greater than 1000\n",
    "sales_greater_than_1000 = df[df['Sales'] > 1000]\n",
    "print(\"Rows where sales are greater than 1000:\")\n",
    "print(sales_greater_than_1000)\n",
    "\n",
    "# Find all sales records for the 'East' region\n",
    "east_sales = df[df['Region'] == 'East']\n",
    "print(\"\\nSales records for 'East' region:\")\n",
    "print(east_sales)\n",
    "\n",
    "# Data Processing\n",
    "# Add a new column 'Profit_Per_Unit' calculated as Profit / Quantity\n",
    "df['Profit_Per_Unit'] = df['Profit'] / df['Quantity']\n",
    "\n",
    "# Create another column 'High_Sales' where Sales > 1000 is labeled as 'Yes', else 'No'\n",
    "df['High_Sales'] = df['Sales'].apply(lambda x: 'Yes' if x > 1000 else 'No')\n",
    "\n",
    "# Display the updated DataFrame\n",
    "print(\"\\nUpdated DataFrame with new columns:\")\n",
    "print(df.head())\n"
   ]
  },
  {
   "cell_type": "markdown",
   "id": "74bc6c89-94a3-4233-8362-bc2b6ae517c8",
   "metadata": {},
   "source": [
    "# DAY-9"
   ]
  },
  {
   "cell_type": "code",
   "execution_count": 52,
   "id": "c9f02868-8fde-4391-ba9e-fc7ebc8a10a5",
   "metadata": {},
   "outputs": [
    {
     "name": "stdout",
     "output_type": "stream",
     "text": [
      "First 5 rows of the dataset:\n",
      "         Date Product Region    Sales  Profit  Quantity\n",
      "0  2023-01-02  Tablet   East  1061.81  236.12         7\n",
      "1  2023-01-06  Laptop  North  1926.07  246.34         8\n",
      "2  2023-01-03  Tablet   East  1597.99  253.17         3\n",
      "3  2023-01-20  Tablet  North  1397.99  242.23         1\n",
      "4  2023-01-04  Laptop   West   734.03  140.36         4\n",
      "\n",
      "Basic statistics of the numerical columns:\n",
      "             Sales      Profit   Quantity\n",
      "count    20.000000   20.000000  20.000000\n",
      "mean   1186.553000  211.533000   5.050000\n",
      "std     461.528444   66.916251   2.543826\n",
      "min     530.880000   82.160000   1.000000\n",
      "25%     774.517500  166.515000   2.750000\n",
      "50%    1104.865000  214.670000   5.000000\n",
      "75%    1571.080000  248.047500   7.250000\n",
      "max    1954.860000  364.970000   9.000000\n",
      "\n",
      "Missing values in the dataset:\n",
      "Date        0\n",
      "Product     0\n",
      "Region      0\n",
      "Sales       0\n",
      "Profit      0\n",
      "Quantity    0\n",
      "dtype: int64\n"
     ]
    }
   ],
   "source": [
    "import pandas as pd\n",
    "\n",
    "# Load the CSV file\n",
    "df = pd.read_csv('Day_8_sales_data.csv')\n",
    "\n",
    "# Display the first 5 rows of the dataset\n",
    "print(\"First 5 rows of the dataset:\")\n",
    "print(df.head())\n",
    "\n",
    "# Generate basic statistics for numerical columns\n",
    "print(\"\\nBasic statistics of the numerical columns:\")\n",
    "print(df.describe())\n",
    "\n",
    "# Check for missing values\n",
    "print(\"\\nMissing values in the dataset:\")\n",
    "print(df.isnull().sum())\n"
   ]
  },
  {
   "cell_type": "code",
   "execution_count": null,
   "id": "f6baa641-c504-458d-8ed4-b81da3742c0c",
   "metadata": {},
   "outputs": [],
   "source": []
  }
 ],
 "metadata": {
  "kernelspec": {
   "display_name": "Python 3 (ipykernel)",
   "language": "python",
   "name": "python3"
  },
  "language_info": {
   "codemirror_mode": {
    "name": "ipython",
    "version": 3
   },
   "file_extension": ".py",
   "mimetype": "text/x-python",
   "name": "python",
   "nbconvert_exporter": "python",
   "pygments_lexer": "ipython3",
   "version": "3.12.4"
  }
 },
 "nbformat": 4,
 "nbformat_minor": 5
}
