{
 "cells": [
  {
   "cell_type": "markdown",
   "id": "4d3f9b50-3c36-4eb3-ab47-1ed12b4a1cf6",
   "metadata": {},
   "source": [
    "# DAY-4 Take input for the positive integer n"
   ]
  },
  {
   "cell_type": "code",
   "execution_count": 2,
   "id": "822a1267-bebf-4290-b873-39e4c9fe9963",
   "metadata": {},
   "outputs": [
    {
     "name": "stdin",
     "output_type": "stream",
     "text": [
      "Enter a positive integer:  32\n"
     ]
    },
    {
     "name": "stdout",
     "output_type": "stream",
     "text": [
      "The sum of all even numbers between 1 and 32 is: 272\n"
     ]
    }
   ],
   "source": [
    "# Take input for the positive integer n\n",
    "n = int(input(\"Enter a positive integer: \"))\n",
    "\n",
    "# Initialize a variable to store the sum of even numbers\n",
    "even_sum = 0\n",
    "\n",
    "# Loop through all numbers from 1 to n\n",
    "for num in range(1, n + 1):\n",
    "    if num % 2 == 0:  # Check if the number is even\n",
    "        even_sum += num\n",
    "\n",
    "# Print the result\n",
    "print(f\"The sum of all even numbers between 1 and {n} is: {even_sum}\")\n"
   ]
  },
  {
   "cell_type": "markdown",
   "id": "6a9e6fe6-5aaf-4543-b3f7-f92f580a2bd6",
   "metadata": {},
   "source": [
    "# DAY-5"
   ]
  },
  {
   "cell_type": "code",
   "execution_count": 5,
   "id": "1e0875a2-dea8-42c2-90b0-d9313b0443ba",
   "metadata": {},
   "outputs": [
    {
     "name": "stdin",
     "output_type": "stream",
     "text": [
      "Enter a positive integer:  43\n"
     ]
    },
    {
     "name": "stdout",
     "output_type": "stream",
     "text": [
      "Numbers from 1 to 43\n",
      "1\n",
      "2\n",
      "3\n",
      "4\n",
      "5\n",
      "6\n",
      "7\n",
      "8\n",
      "9\n",
      "10\n",
      "11\n",
      "12\n",
      "13\n",
      "14\n",
      "15\n",
      "16\n",
      "17\n",
      "18\n",
      "19\n",
      "20\n",
      "21\n",
      "22\n",
      "23\n",
      "24\n",
      "25\n",
      "26\n",
      "27\n",
      "28\n",
      "29\n",
      "30\n",
      "31\n",
      "32\n",
      "33\n",
      "34\n",
      "35\n",
      "36\n",
      "37\n",
      "38\n",
      "39\n",
      "40\n",
      "41\n",
      "42\n",
      "43\n",
      "Sum of all numbers from 1 to 43 is: 946\n"
     ]
    },
    {
     "name": "stdin",
     "output_type": "stream",
     "text": [
      "Enter a positive integer:  44\n"
     ]
    },
    {
     "name": "stdout",
     "output_type": "stream",
     "text": [
      "The square of 44 is: 1936\n"
     ]
    }
   ],
   "source": [
    "# Ask the user to enter a positive integer\n",
    "n = int(input(\"Enter a positive integer: \"))\n",
    "\n",
    "# Print all numbers from 1 to n using a for loop\n",
    "print(\"Numbers from 1 to\", n)\n",
    "for i in range(1, n + 1):\n",
    "    print(i)\n",
    "\n",
    "# Calculate the sum of all numbers from 1 to n using a while loop\n",
    "sum_numbers = 0\n",
    "i = 1\n",
    "while i <= n:\n",
    "    sum_numbers += i\n",
    "    i += 1\n",
    "print(\"Sum of all numbers from 1 to\", n, \"is:\", sum_numbers)\n",
    "# Define a function to calculate the square of a number\n",
    "def calculate_square(n):\n",
    "    return n * n\n",
    "\n",
    "# Ask the user to input a positive integer\n",
    "num = int(input(\"Enter a positive integer: \"))\n",
    "\n",
    "# Call the function and display the result\n",
    "square = calculate_square(num)\n",
    "print(f\"The square of {num} is: {square}\")\n",
    "\n"
   ]
  },
  {
   "cell_type": "markdown",
   "id": "b06859fd-3d02-4959-976d-0f1689aad83e",
   "metadata": {},
   "source": [
    "# DAY - 6"
   ]
  },
  {
   "cell_type": "code",
   "execution_count": 8,
   "id": "e94b18af-362d-4e90-8a70-2c4d73c98cee",
   "metadata": {},
   "outputs": [
    {
     "name": "stdout",
     "output_type": "stream",
     "text": [
      "First 2 rows of the DataFrame:\n",
      "    Name  Age Department  Salary\n",
      "0   John   28         HR   45000\n",
      "1  Alice   34         IT   60000\n",
      "\n",
      "DataFrame with Bonus column:\n",
      "    Name  Age Department  Salary   Bonus\n",
      "0   John   28         HR   45000  4500.0\n",
      "1  Alice   34         IT   60000  6000.0\n",
      "2    Bob   23  Marketing   35000  3500.0\n",
      "3  Diana   29    Finance   50000  5000.0\n",
      "\n",
      "Average Salary: 47500.0\n",
      "\n",
      "Employees older than 25:\n",
      "    Name  Age Department  Salary   Bonus\n",
      "0   John   28         HR   45000  4500.0\n",
      "1  Alice   34         IT   60000  6000.0\n",
      "3  Diana   29    Finance   50000  5000.0\n"
     ]
    }
   ],
   "source": [
    "import pandas as pd\n",
    "\n",
    "# 1. Create a DataFrame\n",
    "data = {\n",
    "    \"Name\": [\"John\", \"Alice\", \"Bob\", \"Diana\"],\n",
    "    \"Age\": [28, 34, 23, 29],\n",
    "    \"Department\": [\"HR\", \"IT\", \"Marketing\", \"Finance\"],\n",
    "    \"Salary\": [45000, 60000, 35000, 50000]\n",
    "}\n",
    "df = pd.DataFrame(data)\n",
    "\n",
    "# 2a. Display the first 2 rows of the DataFrame\n",
    "print(\"First 2 rows of the DataFrame:\")\n",
    "print(df.head(2))\n",
    "\n",
    "# 2b. Add a new column named 'Bonus' (10% of the salary)\n",
    "df[\"Bonus\"] = df[\"Salary\"] * 0.1\n",
    "print(\"\\nDataFrame with Bonus column:\")\n",
    "print(df)\n",
    "\n",
    "# 2c. Calculate the average salary\n",
    "average_salary = df[\"Salary\"].mean()\n",
    "print(\"\\nAverage Salary:\", average_salary)\n",
    "\n",
    "# 2d. Filter and display employees older than 25\n",
    "filtered_employees = df[df[\"Age\"] > 25]\n",
    "print(\"\\nEmployees older than 25:\")\n",
    "print(filtered_employees)\n"
   ]
  },
  {
   "cell_type": "code",
   "execution_count": null,
   "id": "14a549ac-2029-4243-92a8-4abfb414a485",
   "metadata": {},
   "outputs": [],
   "source": []
  }
 ],
 "metadata": {
  "kernelspec": {
   "display_name": "Python 3 (ipykernel)",
   "language": "python",
   "name": "python3"
  },
  "language_info": {
   "codemirror_mode": {
    "name": "ipython",
    "version": 3
   },
   "file_extension": ".py",
   "mimetype": "text/x-python",
   "name": "python",
   "nbconvert_exporter": "python",
   "pygments_lexer": "ipython3",
   "version": "3.12.4"
  }
 },
 "nbformat": 4,
 "nbformat_minor": 5
}
