{
 "cells": [
  {
   "cell_type": "code",
   "execution_count": null,
   "id": "4e307ca9-0267-438e-af1f-c3eb459c0033",
   "metadata": {},
   "outputs": [],
   "source": []
  },
  {
   "cell_type": "code",
   "execution_count": null,
   "id": "98a2e6cc-e2fc-4f09-8a98-de0247ca76c9",
   "metadata": {},
   "outputs": [],
   "source": [
    "# Creating a List, Tuple, and Dictionary\n",
    "my_list = [10, 20, 30, 40, 50]  # List with 5 elements\n",
    "my_tuple = (\"apple\", \"banana\", \"cherry\", \"date\", \"elderberry\")  # Tuple with 5 elements\n",
    "my_dict = {\"a\": 1, \"b\": 2, \"c\": 3, \"d\": 4, \"e\": 5}  # Dictionary with 5 elements\n",
    "\n",
    "# Accessing elements in the List\n",
    "print(\"List Elements:\")\n",
    "print(\"Element at index 1:\", my_list[1])  # Access second element (index 1)\n",
    "print(\"Element at index 3:\", my_list[3])  # Access fourth element (index 3)\n",
    "\n",
    "# Accessing elements in the Tuple\n",
    "print(\"\\nTuple Elements:\")\n",
    "print(\"Element at index 0:\", my_tuple[0])  # Access first element (index 0)\n",
    "print(\"Element at index 4:\", my_tuple[4])  # Access last element (index 4)\n",
    "\n",
    "# Accessing elements in the Dictionary\n",
    "print(\"\\nDictionary Elements:\")\n",
    "print(\"Value for key 'a':\", my_dict[\"a\"])  # Access value for key 'a'\n",
    "print(\"Value for key 'd':\", my_dict[\"d\"])  # Access value for key 'd')\n",
    "\n",
    "# Experiment with accessing multiple elements (List and Tuple)\n",
    "print(\"\\nSlicing the List and Tuple:\")\n",
    "print(\"List slice [1:4]:\", my_list[1:4])  # Access elements from index 1 to 3\n",
    "print(\"Tuple slice [0:3]:\", my_tuple[0:3])  # Access elements from index 0 to 2\n"
   ]
  }
 ],
 "metadata": {
  "kernelspec": {
   "display_name": "Python 3 (ipykernel)",
   "language": "python",
   "name": "python3"
  },
  "language_info": {
   "codemirror_mode": {
    "name": "ipython",
    "version": 3
   },
   "file_extension": ".py",
   "mimetype": "text/x-python",
   "name": "python",
   "nbconvert_exporter": "python",
   "pygments_lexer": "ipython3",
   "version": "3.12.4"
  }
 },
 "nbformat": 4,
 "nbformat_minor": 5
}
